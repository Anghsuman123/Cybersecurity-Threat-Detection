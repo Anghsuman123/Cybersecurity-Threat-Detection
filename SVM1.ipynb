{
  "cells": [
    {
      "cell_type": "code",
      "execution_count": null,
      "metadata": {
        "id": "Sp5lRX-b_td6"
      },
      "outputs": [],
      "source": [
        "import numpy as np\n",
        "import pandas as pd\n",
        "from sklearn.svm import SVC\n",
        "import tensorflow as tf\n",
        "from tensorflow.keras.models import Sequential\n",
        "from tensorflow.keras.layers import Dense, Dropout, Bidirectional, LSTM\n",
        "from sklearn.preprocessing import StandardScaler, LabelEncoder,MinMaxScaler\n",
        "from sklearn.metrics import classification_report, confusion_matrix, accuracy_score\n",
        "import matplotlib.pyplot as plt\n",
        "import seaborn as sns\n",
        "from sklearn.model_selection import train_test_split\n",
        "from sklearn.svm import SVC\n",
        "import pickle"
      ]
    },
    {
      "cell_type": "code",
      "execution_count": null,
      "metadata": {
        "id": "Z-Jh276gBS2i"
      },
      "outputs": [],
      "source": [
        "import random\n",
        "random.seed(42)\n",
        "np.random.seed(42)\n",
        "tf.random.set_seed(42)"
      ]
    },
    {
      "cell_type": "code",
      "execution_count": null,
      "metadata": {
        "id": "XOCFRsz3BZ8y"
      },
      "outputs": [],
      "source": [
        "# Load the datasets\n",
        "train_df = pd.read_csv(\"KDDTrain+.txt\", header=None)\n",
        "test_df = pd.read_csv(\"KDDTest+.txt\", header=None)\n"
      ]
    },
    {
      "cell_type": "code",
      "execution_count": null,
      "metadata": {
        "id": "OdSWR3bSawIR"
      },
      "outputs": [],
      "source": [
        "\n",
        "# Define column names\n",
        "columns = [\n",
        "    'duration', 'protocol_type', 'service', 'flag', 'src_bytes', 'dst_bytes', 'land',\n",
        "    'wrong_fragment', 'urgent', 'hot', 'num_failed_logins', 'logged_in', 'num_compromised',\n",
        "    'root_shell', 'su_attempted', 'num_root', 'num_file_creations', 'num_shells',\n",
        "    'num_access_files', 'num_outbound_cmds', 'is_host_login', 'is_guest_login',\n",
        "    'count', 'srv_count', 'serror_rate', 'srv_serror_rate', 'rerror_rate',\n",
        "    'srv_rerror_rate', 'same_srv_rate', 'diff_srv_rate', 'srv_diff_host_rate',\n",
        "    'dst_host_count', 'dst_host_srv_count', 'dst_host_same_srv_rate',\n",
        "    'dst_host_diff_srv_rate', 'dst_host_same_src_port_rate',\n",
        "    'dst_host_srv_diff_host_rate', 'dst_host_serror_rate',\n",
        "    'dst_host_srv_serror_rate', 'dst_host_rerror_rate', 'dst_host_srv_rerror_rate',\n",
        "    'label', 'score'\n",
        "]\n",
        "train_df.columns = test_df.columns = columns\n",
        "\n",
        "# Encode categorical features\n",
        "categorical_columns = ['protocol_type', 'service', 'flag']\n",
        "encoders = {}\n",
        "for col in categorical_columns:\n",
        "    encoder = LabelEncoder()\n",
        "    train_df[col] = encoder.fit_transform(train_df[col])\n",
        "    test_df[col] = encoder.transform(test_df[col])\n",
        "    encoders[col] = encoder\n",
        "\n",
        "# Convert labels to binary (1 = anomaly, 0 = normal)\n",
        "y_train = train_df['label'].apply(lambda x: 1 if x != 'normal' else 0)\n",
        "y_test = test_df['label'].apply(lambda x: 1 if x != 'normal' else 0)\n",
        "\n",
        "# Drop non-feature columns\n",
        "X_train = train_df.drop(columns=['label', 'score'])\n",
        "X_test = test_df.drop(columns=['label', 'score'])\n",
        "\n",
        "# Scale features\n",
        "scaler = MinMaxScaler()\n",
        "X_train = scaler.fit_transform(X_train)\n",
        "X_test = scaler.transform(X_test)\n"
      ]
    },
    {
      "cell_type": "code",
      "execution_count": null,
      "metadata": {
        "colab": {
          "background_save": true
        },
        "id": "rSkjydLrBl0B",
        "outputId": "07bb0c25-f440-4dda-d2f2-967a356f8ec2"
      },
      "outputs": [
        {
          "name": "stdout",
          "output_type": "stream",
          "text": [
            "Model saved successfully!\n"
          ]
        }
      ],
      "source": [
        "from sklearn.svm import SVC\n",
        "import pickle\n",
        "\n",
        "# Train the model\n",
        "svm_model = SVC(kernel='rbf', probability=True, C=1, gamma='scale')\n",
        "svm_model.fit(X_train, y_train)\n",
        "\n",
        "# Save the model\n",
        "with open(\"svm_nsl_kdd_model.pkl\", \"wb\") as file:\n",
        "    pickle.dump(svm_model, file)\n",
        "print(\"Model saved successfully!\")\n"
      ]
    },
    {
      "cell_type": "code",
      "execution_count": null,
      "metadata": {
        "colab": {
          "background_save": true
        },
        "id": "O8XfFG6lcunN"
      },
      "outputs": [],
      "source": [
        "# Load the saved model\n",
        "with open(\"svm_nsl_kdd_model.pkl\", \"rb\") as file:\n",
        "    loaded_model = pickle.load(file)\n",
        "\n",
        "# Make predictions\n",
        "y_pred = loaded_model.predict(X_test)\n"
      ]
    },
    {
      "cell_type": "code",
      "execution_count": null,
      "metadata": {
        "colab": {
          "background_save": true
        },
        "id": "JCXokVoMcuqM",
        "outputId": "3e21b338-078d-4966-e2de-ed52d7077e30"
      },
      "outputs": [
        {
          "name": "stdout",
          "output_type": "stream",
          "text": [
            "Accuracy: 78.29%\n",
            "Precision: 97.3292\n",
            "Recall: 63.6094\n",
            "F1 Score: 76.9369\n",
            "Confusion Matrix:\n",
            " [[9487  224]\n",
            " [4670 8163]]\n",
            "\n",
            "Classification Report:\n",
            "               precision    recall  f1-score   support\n",
            "\n",
            "           0       0.67      0.98      0.79      9711\n",
            "           1       0.97      0.64      0.77     12833\n",
            "\n",
            "    accuracy                           0.78     22544\n",
            "   macro avg       0.82      0.81      0.78     22544\n",
            "weighted avg       0.84      0.78      0.78     22544\n",
            "\n"
          ]
        },
        {
          "data": {
            "text/plain": [
              "Text(50.722222222222214, 0.5, 'Actual')"
            ]
          },
          "execution_count": 7,
          "metadata": {},
          "output_type": "execute_result"
        },
        {
          "data": {
            "image/png": "[encoded data removed]",
            "text/plain": [
              "<Figure size 640x480 with 2 Axes>"
            ]
          },
          "metadata": {},
          "output_type": "display_data"
        }
      ],
      "source": [
        "from sklearn.metrics import classification_report, confusion_matrix, roc_curve, auc, accuracy_score,precision_score, recall_score, f1_score\n",
        "# Calculate metrics\n",
        "accuracy = accuracy_score(y_test, y_pred)\n",
        "conf_matrix = confusion_matrix(y_test, y_pred)\n",
        "class_report = classification_report(y_test, y_pred)\n",
        "\n",
        "print(f\"Accuracy: {accuracy * 100:.2f}%\")\n",
        "print(f\"Precision: {precision_score(y_test, y_pred)* 100:.4f}\")\n",
        "print(f\"Recall: {recall_score(y_test, y_pred)* 100:.4f}\")\n",
        "print(f\"F1 Score: {f1_score(y_test, y_pred)* 100:.4f}\")\n",
        "\n",
        "print(\"Confusion Matrix:\\n\", conf_matrix)\n",
        "print(\"\\nClassification Report:\\n\", class_report)\n",
        "sns.heatmap(conf_matrix, annot=True, fmt='d', cmap='Blues', xticklabels=[\"Normal\", \"Threat\"], yticklabels=[\"Normal\", \"Threat\"])\n",
        "plt.xlabel('Predicted')\n",
        "plt.ylabel('Actual')\n"
      ]
    }
  ],
  "metadata": {
    "colab": {
      "provenance": []
    },
    "kernelspec": {
      "display_name": "Python 3",
      "name": "python3"
    },
    "language_info": {
      "name": "python"
    }
  },
  "nbformat": 4,
  "nbformat_minor": 0
}